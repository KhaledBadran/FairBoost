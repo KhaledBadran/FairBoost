{
 "cells": [
  {
   "cell_type": "markdown",
   "metadata": {},
   "source": [
    "# Imports"
   ]
  },
  {
   "cell_type": "code",
   "execution_count": 1,
   "metadata": {},
   "outputs": [
    {
     "name": "stderr",
     "output_type": "stream",
     "text": [
      "2022-03-20 00:42:17.524960: W tensorflow/stream_executor/platform/default/dso_loader.cc:64] Could not load dynamic library 'libcudart.so.11.0'; dlerror: libcudart.so.11.0: cannot open shared object file: No such file or directory\n",
      "2022-03-20 00:42:17.524982: I tensorflow/stream_executor/cuda/cudart_stub.cc:29] Ignore above cudart dlerror if you do not have a GPU set up on your machine.\n"
     ]
    }
   ],
   "source": [
    "import random\n",
    "from sklearn.datasets import load_breast_cancer\n",
    "from sklearn.linear_model import LogisticRegression\n",
    "from sklearn.model_selection import train_test_split\n",
    "from sklearn.metrics import accuracy_score\n",
    "from aif360.datasets import GermanDataset\n",
    "from aif360.algorithms.preprocessing import Reweighing, OptimPreproc\n",
    "from aif360.algorithms.preprocessing.optim_preproc_helpers.opt_tools import OptTools\n",
    "from aif360.algorithms.preprocessing.optim_preproc_helpers.distortion_functions  import get_distortion_german\n",
    "from aif360.algorithms.preprocessing.optim_preproc_helpers.data_preproc_functions import load_preproc_data_german\n",
    "\n",
    "from FairBoost import FairBoost, Bootstrap_type"
   ]
  },
  {
   "cell_type": "markdown",
   "metadata": {
    "jp-MarkdownHeadingCollapsed": true,
    "tags": []
   },
   "source": [
    "# Debug"
   ]
  },
  {
   "cell_type": "code",
   "execution_count": 1,
   "metadata": {},
   "outputs": [
    {
     "name": "stdout",
     "output_type": "stream",
     "text": [
      "Requirement already satisfied: ipdb in /home/poclecoqq/anaconda3/lib/python3.9/site-packages (0.13.9)\n",
      "Requirement already satisfied: ipython>=7.17.0 in /home/poclecoqq/anaconda3/lib/python3.9/site-packages (from ipdb) (7.29.0)\n",
      "Requirement already satisfied: decorator in /home/poclecoqq/anaconda3/lib/python3.9/site-packages (from ipdb) (5.1.0)\n",
      "Requirement already satisfied: toml>=0.10.2 in /home/poclecoqq/anaconda3/lib/python3.9/site-packages (from ipdb) (0.10.2)\n",
      "Requirement already satisfied: setuptools in /home/poclecoqq/anaconda3/lib/python3.9/site-packages (from ipdb) (58.0.4)\n",
      "Requirement already satisfied: pygments in /home/poclecoqq/anaconda3/lib/python3.9/site-packages (from ipython>=7.17.0->ipdb) (2.10.0)\n",
      "Requirement already satisfied: matplotlib-inline in /home/poclecoqq/anaconda3/lib/python3.9/site-packages (from ipython>=7.17.0->ipdb) (0.1.2)\n",
      "Requirement already satisfied: jedi>=0.16 in /home/poclecoqq/anaconda3/lib/python3.9/site-packages (from ipython>=7.17.0->ipdb) (0.18.0)\n",
      "Requirement already satisfied: traitlets>=4.2 in /home/poclecoqq/anaconda3/lib/python3.9/site-packages (from ipython>=7.17.0->ipdb) (5.1.0)\n",
      "Requirement already satisfied: backcall in /home/poclecoqq/anaconda3/lib/python3.9/site-packages (from ipython>=7.17.0->ipdb) (0.2.0)\n",
      "Requirement already satisfied: pexpect>4.3 in /home/poclecoqq/anaconda3/lib/python3.9/site-packages (from ipython>=7.17.0->ipdb) (4.8.0)\n",
      "Requirement already satisfied: pickleshare in /home/poclecoqq/anaconda3/lib/python3.9/site-packages (from ipython>=7.17.0->ipdb) (0.7.5)\n",
      "Requirement already satisfied: prompt-toolkit!=3.0.0,!=3.0.1,<3.1.0,>=2.0.0 in /home/poclecoqq/anaconda3/lib/python3.9/site-packages (from ipython>=7.17.0->ipdb) (3.0.20)\n",
      "Requirement already satisfied: parso<0.9.0,>=0.8.0 in /home/poclecoqq/anaconda3/lib/python3.9/site-packages (from jedi>=0.16->ipython>=7.17.0->ipdb) (0.8.2)\n",
      "Requirement already satisfied: ptyprocess>=0.5 in /home/poclecoqq/anaconda3/lib/python3.9/site-packages (from pexpect>4.3->ipython>=7.17.0->ipdb) (0.7.0)\n",
      "Requirement already satisfied: wcwidth in /home/poclecoqq/anaconda3/lib/python3.9/site-packages (from prompt-toolkit!=3.0.0,!=3.0.1,<3.1.0,>=2.0.0->ipython>=7.17.0->ipdb) (0.2.5)\n"
     ]
    }
   ],
   "source": [
    "!pip install ipdb\n",
    "import  ipdb"
   ]
  },
  {
   "cell_type": "code",
   "execution_count": 2,
   "metadata": {
    "colab": {
     "base_uri": "https://localhost:8080/"
    },
    "id": "zz5SYmWMlLCu",
    "outputId": "22e31342-9080-4231-8faa-40786143316f"
   },
   "outputs": [
    {
     "name": "stdout",
     "output_type": "stream",
     "text": [
      "Automatic pdb calling has been turned ON\n"
     ]
    }
   ],
   "source": [
    "%pdb on"
   ]
  },
  {
   "cell_type": "markdown",
   "metadata": {},
   "source": [
    "# Code"
   ]
  },
  {
   "cell_type": "code",
   "execution_count": 2,
   "metadata": {},
   "outputs": [],
   "source": [
    "dataset_orig = load_preproc_data_german(['age'])\n",
    "dataset_orig_train, dataset_orig_test = dataset_orig.split([0.7], shuffle=True)"
   ]
  },
  {
   "cell_type": "code",
   "execution_count": 3,
   "metadata": {},
   "outputs": [
    {
     "name": "stderr",
     "output_type": "stream",
     "text": [
      "Privileged and unprivileged groups specified will not be used. The protected attributes are directly specified in the data preprocessing function. The current implementation automatically adjusts for discrimination across all groups. This can be changed by changing the optimization code.\n"
     ]
    }
   ],
   "source": [
    "optim_options = {\n",
    "            \"distortion_fun\": get_distortion_german,\n",
    "            \"epsilon\": 0.1,\n",
    "            \"clist\": [0.99, 1.99, 2.99],\n",
    "            \"dlist\": [.1, 0.05, 0]\n",
    "        } \n",
    "\n",
    "\n",
    "privileged_groups = [{'age': 1}]\n",
    "unprivileged_groups = [{'age': 0}]\n",
    "pp2 = OptimPreproc(OptTools, optim_options,\n",
    "                  unprivileged_groups = unprivileged_groups,\n",
    "                  privileged_groups = privileged_groups)\n",
    "## TODO: Fairboost does not support Reweighing!!\n",
    "pp = Reweighing(unprivileged_groups=unprivileged_groups, privileged_groups=privileged_groups)\n"
   ]
  },
  {
   "cell_type": "code",
   "execution_count": 4,
   "metadata": {},
   "outputs": [
    {
     "name": "stderr",
     "output_type": "stream",
     "text": [
      "\n",
      "This use of ``*`` has resulted in matrix multiplication.\n",
      "Using ``*`` for matrix multiplication has been deprecated since CVXPY 1.1.\n",
      "    Use ``*`` for matrix-scalar and vector-scalar multiplication.\n",
      "    Use ``@`` for matrix-matrix and matrix-vector multiplication.\n",
      "    Use ``multiply`` for elementwise multiplication.\n",
      "This code path has been hit 1 times so far.\n",
      "\n",
      "\n",
      "This use of ``*`` has resulted in matrix multiplication.\n",
      "Using ``*`` for matrix multiplication has been deprecated since CVXPY 1.1.\n",
      "    Use ``*`` for matrix-scalar and vector-scalar multiplication.\n",
      "    Use ``@`` for matrix-matrix and matrix-vector multiplication.\n",
      "    Use ``multiply`` for elementwise multiplication.\n",
      "This code path has been hit 2 times so far.\n",
      "\n",
      "\n",
      "This use of ``*`` has resulted in matrix multiplication.\n",
      "Using ``*`` for matrix multiplication has been deprecated since CVXPY 1.1.\n",
      "    Use ``*`` for matrix-scalar and vector-scalar multiplication.\n",
      "    Use ``@`` for matrix-matrix and matrix-vector multiplication.\n",
      "    Use ``multiply`` for elementwise multiplication.\n",
      "This code path has been hit 3 times so far.\n",
      "\n",
      "\n",
      "This use of ``*`` has resulted in matrix multiplication.\n",
      "Using ``*`` for matrix multiplication has been deprecated since CVXPY 1.1.\n",
      "    Use ``*`` for matrix-scalar and vector-scalar multiplication.\n",
      "    Use ``@`` for matrix-matrix and matrix-vector multiplication.\n",
      "    Use ``multiply`` for elementwise multiplication.\n",
      "This code path has been hit 4 times so far.\n",
      "\n"
     ]
    },
    {
     "name": "stdout",
     "output_type": "stream",
     "text": [
      "Optimized Preprocessing: Objective converged to 0.000000\n"
     ]
    },
    {
     "data": {
      "text/plain": [
       "0.7133333333333334"
      ]
     },
     "execution_count": 4,
     "metadata": {},
     "output_type": "execute_result"
    }
   ],
   "source": [
    "model = LogisticRegression()\n",
    "\n",
    "ens = FairBoost(model, (pp, pp2), bootstrap_type=Bootstrap_type.DEFAULT)\n",
    "ens = ens.fit(dataset_orig_train)\n",
    "y_pred = ens.predict(dataset_orig_test)\n",
    "accuracy_score(y_pred, dataset_orig_test.labels)"
   ]
  },
  {
   "cell_type": "code",
   "execution_count": 7,
   "metadata": {},
   "outputs": [
    {
     "data": {
      "text/plain": [
       "0.71"
      ]
     },
     "execution_count": 7,
     "metadata": {},
     "output_type": "execute_result"
    }
   ],
   "source": [
    "model = LogisticRegression()\n",
    "model = model.fit(dataset_orig_train.features, dataset_orig_train.labels.ravel())\n",
    "y_pred = model.predict(dataset_orig_test.features)\n",
    "accuracy_score(y_pred, dataset_orig_test.labels)"
   ]
  },
  {
   "cell_type": "code",
   "execution_count": null,
   "metadata": {},
   "outputs": [],
   "source": []
  }
 ],
 "metadata": {
  "colab": {
   "name": "notebook.ipynb",
   "provenance": []
  },
  "interpreter": {
   "hash": "e7370f93d1d0cde622a1f8e1c04877d8463912d04d973331ad4851f04de6915a"
  },
  "kernelspec": {
   "display_name": "Python 3 (ipykernel)",
   "language": "python",
   "name": "python3"
  },
  "language_info": {
   "codemirror_mode": {
    "name": "ipython",
    "version": 3
   },
   "file_extension": ".py",
   "mimetype": "text/x-python",
   "name": "python",
   "nbconvert_exporter": "python",
   "pygments_lexer": "ipython3",
   "version": "3.9.7"
  }
 },
 "nbformat": 4,
 "nbformat_minor": 4
}
